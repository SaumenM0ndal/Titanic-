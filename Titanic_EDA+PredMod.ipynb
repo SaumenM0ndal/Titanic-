{
  "nbformat": 4,
  "nbformat_minor": 0,
  "metadata": {
    "kernelspec": {
      "display_name": "Python 3",
      "language": "python",
      "name": "python3"
    },
    "language_info": {
      "codemirror_mode": {
        "name": "ipython",
        "version": 3
      },
      "file_extension": ".py",
      "mimetype": "text/x-python",
      "name": "python",
      "nbconvert_exporter": "python",
      "pygments_lexer": "ipython3",
      "version": "3.6.1"
    },
    "colab": {
      "name": "Titanic_EDA+PredMod.ipynb",
      "provenance": [],
      "collapsed_sections": []
    }
  },
  "cells": [
    {
      "cell_type": "markdown",
      "metadata": {
        "id": "J9Do3TQvorvu"
      },
      "source": [
        "### **Step 1: Gather the Data & Utilities**"
      ]
    },
    {
      "cell_type": "code",
      "metadata": {
        "id": "E_oZzy8forvv"
      },
      "source": [
        "# Loading the required libraries/packages\n",
        "\n",
        "# For data loading and manipulation\n",
        "import pandas as pd\n",
        "import numpy as np\n",
        "\n",
        "# For Visualization/EDA\n",
        "import seaborn as sns\n",
        "sns.set(style=\"white\")\n",
        "import matplotlib.pyplot as plt\n",
        "%matplotlib inline\n",
        "\n",
        "# For data science and machine learning techniques\n",
        "from sklearn import preprocessing\n",
        "from sklearn.linear_model import LogisticRegression\n",
        "from sklearn.model_selection import train_test_split\n",
        "from sklearn import metrics\n",
        "from sklearn import tree\n",
        "from sklearn.ensemble import RandomForestClassifier"
      ],
      "execution_count": 1,
      "outputs": []
    },
    {
      "cell_type": "markdown",
      "metadata": {
        "id": "JaMvajL4qVUA"
      },
      "source": [
        "Note: The titanic dataset has already been divided into training and test sets as train.csv and test.csv"
      ]
    },
    {
      "cell_type": "code",
      "metadata": {
        "colab": {
          "base_uri": "https://localhost:8080/"
        },
        "id": "UsiVmfx1orvw",
        "outputId": "10518ff0-092f-4e28-ca40-25623d7ceaca"
      },
      "source": [
        "# Read the train and test datasets from Kaggle to create two DataFrames using Pandas\n",
        "train = pd.read_csv('train.csv')\n",
        "test = pd.read_csv('test.csv')\n",
        "# Print the first few records of the train and test datasets\n",
        "print(train.head())\n",
        "print(test.head())"
      ],
      "execution_count": 2,
      "outputs": [
        {
          "output_type": "stream",
          "text": [
            "   PassengerId  Survived  Pclass  ...     Fare Cabin  Embarked\n",
            "0            1         0       3  ...   7.2500   NaN         S\n",
            "1            2         1       1  ...  71.2833   C85         C\n",
            "2            3         1       3  ...   7.9250   NaN         S\n",
            "3            4         1       1  ...  53.1000  C123         S\n",
            "4            5         0       3  ...   8.0500   NaN         S\n",
            "\n",
            "[5 rows x 12 columns]\n",
            "   PassengerId  Pclass  ... Cabin Embarked\n",
            "0          892       3  ...   NaN        Q\n",
            "1          893       3  ...   NaN        S\n",
            "2          894       2  ...   NaN        Q\n",
            "3          895       3  ...   NaN        S\n",
            "4          896       3  ...   NaN        S\n",
            "\n",
            "[5 rows x 11 columns]\n"
          ],
          "name": "stdout"
        }
      ]
    },
    {
      "cell_type": "code",
      "metadata": {
        "colab": {
          "base_uri": "https://localhost:8080/"
        },
        "id": "0Iq9nkg1orvx",
        "outputId": "94cdc6e6-305c-4281-d258-1f510ccd0ad0"
      },
      "source": [
        "# Checking the dimensions of the train dataset\n",
        "train.shape"
      ],
      "execution_count": 3,
      "outputs": [
        {
          "output_type": "execute_result",
          "data": {
            "text/plain": [
              "(891, 12)"
            ]
          },
          "metadata": {
            "tags": []
          },
          "execution_count": 3
        }
      ]
    },
    {
      "cell_type": "code",
      "metadata": {
        "colab": {
          "base_uri": "https://localhost:8080/",
          "height": 295
        },
        "id": "n6PT626lorvy",
        "outputId": "a2f30927-c8fe-4bbb-bd12-d87fdc01ce58"
      },
      "source": [
        "# Checking the distribution of the numerical columns\n",
        "train.describe()"
      ],
      "execution_count": 4,
      "outputs": [
        {
          "output_type": "execute_result",
          "data": {
            "text/html": [
              "<div>\n",
              "<style scoped>\n",
              "    .dataframe tbody tr th:only-of-type {\n",
              "        vertical-align: middle;\n",
              "    }\n",
              "\n",
              "    .dataframe tbody tr th {\n",
              "        vertical-align: top;\n",
              "    }\n",
              "\n",
              "    .dataframe thead th {\n",
              "        text-align: right;\n",
              "    }\n",
              "</style>\n",
              "<table border=\"1\" class=\"dataframe\">\n",
              "  <thead>\n",
              "    <tr style=\"text-align: right;\">\n",
              "      <th></th>\n",
              "      <th>PassengerId</th>\n",
              "      <th>Survived</th>\n",
              "      <th>Pclass</th>\n",
              "      <th>Age</th>\n",
              "      <th>SibSp</th>\n",
              "      <th>Parch</th>\n",
              "      <th>Fare</th>\n",
              "    </tr>\n",
              "  </thead>\n",
              "  <tbody>\n",
              "    <tr>\n",
              "      <th>count</th>\n",
              "      <td>891.000000</td>\n",
              "      <td>891.000000</td>\n",
              "      <td>891.000000</td>\n",
              "      <td>714.000000</td>\n",
              "      <td>891.000000</td>\n",
              "      <td>891.000000</td>\n",
              "      <td>891.000000</td>\n",
              "    </tr>\n",
              "    <tr>\n",
              "      <th>mean</th>\n",
              "      <td>446.000000</td>\n",
              "      <td>0.383838</td>\n",
              "      <td>2.308642</td>\n",
              "      <td>29.699118</td>\n",
              "      <td>0.523008</td>\n",
              "      <td>0.381594</td>\n",
              "      <td>32.204208</td>\n",
              "    </tr>\n",
              "    <tr>\n",
              "      <th>std</th>\n",
              "      <td>257.353842</td>\n",
              "      <td>0.486592</td>\n",
              "      <td>0.836071</td>\n",
              "      <td>14.526497</td>\n",
              "      <td>1.102743</td>\n",
              "      <td>0.806057</td>\n",
              "      <td>49.693429</td>\n",
              "    </tr>\n",
              "    <tr>\n",
              "      <th>min</th>\n",
              "      <td>1.000000</td>\n",
              "      <td>0.000000</td>\n",
              "      <td>1.000000</td>\n",
              "      <td>0.420000</td>\n",
              "      <td>0.000000</td>\n",
              "      <td>0.000000</td>\n",
              "      <td>0.000000</td>\n",
              "    </tr>\n",
              "    <tr>\n",
              "      <th>25%</th>\n",
              "      <td>223.500000</td>\n",
              "      <td>0.000000</td>\n",
              "      <td>2.000000</td>\n",
              "      <td>20.125000</td>\n",
              "      <td>0.000000</td>\n",
              "      <td>0.000000</td>\n",
              "      <td>7.910400</td>\n",
              "    </tr>\n",
              "    <tr>\n",
              "      <th>50%</th>\n",
              "      <td>446.000000</td>\n",
              "      <td>0.000000</td>\n",
              "      <td>3.000000</td>\n",
              "      <td>28.000000</td>\n",
              "      <td>0.000000</td>\n",
              "      <td>0.000000</td>\n",
              "      <td>14.454200</td>\n",
              "    </tr>\n",
              "    <tr>\n",
              "      <th>75%</th>\n",
              "      <td>668.500000</td>\n",
              "      <td>1.000000</td>\n",
              "      <td>3.000000</td>\n",
              "      <td>38.000000</td>\n",
              "      <td>1.000000</td>\n",
              "      <td>0.000000</td>\n",
              "      <td>31.000000</td>\n",
              "    </tr>\n",
              "    <tr>\n",
              "      <th>max</th>\n",
              "      <td>891.000000</td>\n",
              "      <td>1.000000</td>\n",
              "      <td>3.000000</td>\n",
              "      <td>80.000000</td>\n",
              "      <td>8.000000</td>\n",
              "      <td>6.000000</td>\n",
              "      <td>512.329200</td>\n",
              "    </tr>\n",
              "  </tbody>\n",
              "</table>\n",
              "</div>"
            ],
            "text/plain": [
              "       PassengerId    Survived      Pclass  ...       SibSp       Parch        Fare\n",
              "count   891.000000  891.000000  891.000000  ...  891.000000  891.000000  891.000000\n",
              "mean    446.000000    0.383838    2.308642  ...    0.523008    0.381594   32.204208\n",
              "std     257.353842    0.486592    0.836071  ...    1.102743    0.806057   49.693429\n",
              "min       1.000000    0.000000    1.000000  ...    0.000000    0.000000    0.000000\n",
              "25%     223.500000    0.000000    2.000000  ...    0.000000    0.000000    7.910400\n",
              "50%     446.000000    0.000000    3.000000  ...    0.000000    0.000000   14.454200\n",
              "75%     668.500000    1.000000    3.000000  ...    1.000000    0.000000   31.000000\n",
              "max     891.000000    1.000000    3.000000  ...    8.000000    6.000000  512.329200\n",
              "\n",
              "[8 rows x 7 columns]"
            ]
          },
          "metadata": {
            "tags": []
          },
          "execution_count": 4
        }
      ]
    },
    {
      "cell_type": "code",
      "metadata": {
        "colab": {
          "base_uri": "https://localhost:8080/"
        },
        "id": "GEOe7KOporvz",
        "outputId": "19a54daa-ad2e-4a80-8184-e998783dbf43"
      },
      "source": [
        "# Getting a summary on data types and missingness of each column\n",
        "train.info()"
      ],
      "execution_count": 5,
      "outputs": [
        {
          "output_type": "stream",
          "text": [
            "<class 'pandas.core.frame.DataFrame'>\n",
            "RangeIndex: 891 entries, 0 to 890\n",
            "Data columns (total 12 columns):\n",
            " #   Column       Non-Null Count  Dtype  \n",
            "---  ------       --------------  -----  \n",
            " 0   PassengerId  891 non-null    int64  \n",
            " 1   Survived     891 non-null    int64  \n",
            " 2   Pclass       891 non-null    int64  \n",
            " 3   Name         891 non-null    object \n",
            " 4   Sex          891 non-null    object \n",
            " 5   Age          714 non-null    float64\n",
            " 6   SibSp        891 non-null    int64  \n",
            " 7   Parch        891 non-null    int64  \n",
            " 8   Ticket       891 non-null    object \n",
            " 9   Fare         891 non-null    float64\n",
            " 10  Cabin        204 non-null    object \n",
            " 11  Embarked     889 non-null    object \n",
            "dtypes: float64(2), int64(5), object(5)\n",
            "memory usage: 83.7+ KB\n"
          ],
          "name": "stdout"
        }
      ]
    },
    {
      "cell_type": "markdown",
      "metadata": {
        "id": "n-2STO_Qorv0"
      },
      "source": [
        "### **Step 2: Pre-process & Analyze the Data**"
      ]
    },
    {
      "cell_type": "code",
      "metadata": {
        "colab": {
          "base_uri": "https://localhost:8080/"
        },
        "id": "5VAoI4oyorv1",
        "outputId": "9e35898b-74a1-4304-95ac-8dce08baf2d8"
      },
      "source": [
        "# Treating missing values (Age, Cabin, Embarked)\n",
        "# Check the average Age by Gender\n",
        "train.groupby('Sex')['Age'].mean()"
      ],
      "execution_count": 6,
      "outputs": [
        {
          "output_type": "execute_result",
          "data": {
            "text/plain": [
              "Sex\n",
              "female    27.915709\n",
              "male      30.726645\n",
              "Name: Age, dtype: float64"
            ]
          },
          "metadata": {
            "tags": []
          },
          "execution_count": 6
        }
      ]
    },
    {
      "cell_type": "code",
      "metadata": {
        "colab": {
          "base_uri": "https://localhost:8080/"
        },
        "id": "qIB4rrHlorv1",
        "outputId": "fed3c532-0700-4e23-fea6-22323d8bc3d5"
      },
      "source": [
        "# Impute missing values of age by the respective average of the genders\n",
        "train.loc[(train.Age.isnull())&(train.Sex=='female'),'Age'] = train[\"Age\"][train[\"Sex\"] == 'female'].mean()\n",
        "train.loc[(train.Age.isnull())&(train.Sex=='male'),'Age'] = train[\"Age\"][train[\"Sex\"] == 'male'].mean()\n",
        "train.Age.isnull().any()"
      ],
      "execution_count": 7,
      "outputs": [
        {
          "output_type": "execute_result",
          "data": {
            "text/plain": [
              "False"
            ]
          },
          "metadata": {
            "tags": []
          },
          "execution_count": 7
        }
      ]
    },
    {
      "cell_type": "code",
      "metadata": {
        "colab": {
          "base_uri": "https://localhost:8080/"
        },
        "id": "rrO5jVr8orv2",
        "outputId": "f639516b-311e-42c2-fbab-157207fa2b08"
      },
      "source": [
        "# Check the Cabin distribution\n",
        "#train.groupby('Cabin').size()\n",
        "len(train.Cabin.unique())"
      ],
      "execution_count": 8,
      "outputs": [
        {
          "output_type": "execute_result",
          "data": {
            "text/plain": [
              "148"
            ]
          },
          "metadata": {
            "tags": []
          },
          "execution_count": 8
        }
      ]
    },
    {
      "cell_type": "code",
      "metadata": {
        "colab": {
          "base_uri": "https://localhost:8080/"
        },
        "id": "JprDOV0Uorv2",
        "outputId": "f6f267b0-5c9e-4d0b-f898-313571254733"
      },
      "source": [
        "# How much information does it provide?\n",
        "train.Cabin.isnull().sum()/(train.shape[0])"
      ],
      "execution_count": 9,
      "outputs": [
        {
          "output_type": "execute_result",
          "data": {
            "text/plain": [
              "0.7710437710437711"
            ]
          },
          "metadata": {
            "tags": []
          },
          "execution_count": 9
        }
      ]
    },
    {
      "cell_type": "markdown",
      "metadata": {
        "id": "NjdbE8xoorv3"
      },
      "source": [
        "There are >100 cabin numbers with different sequence numbers and 77% of the data is missing, hence no use keeping this variable"
      ]
    },
    {
      "cell_type": "code",
      "metadata": {
        "collapsed": true,
        "id": "LnZh_oIOorv3"
      },
      "source": [
        "# Dropping Cabin from the analysis\n",
        "train.drop(['Cabin'],axis=1,inplace=True)"
      ],
      "execution_count": 10,
      "outputs": []
    },
    {
      "cell_type": "code",
      "metadata": {
        "colab": {
          "base_uri": "https://localhost:8080/"
        },
        "id": "_dbQLemhorv4",
        "outputId": "6d5dc98b-690f-4374-81f4-02f9a89d0c97"
      },
      "source": [
        "# Check the Embarked distribution\n",
        "train.groupby('Embarked').size()"
      ],
      "execution_count": 11,
      "outputs": [
        {
          "output_type": "execute_result",
          "data": {
            "text/plain": [
              "Embarked\n",
              "C    168\n",
              "Q     77\n",
              "S    644\n",
              "dtype: int64"
            ]
          },
          "metadata": {
            "tags": []
          },
          "execution_count": 11
        }
      ]
    },
    {
      "cell_type": "code",
      "metadata": {
        "colab": {
          "base_uri": "https://localhost:8080/"
        },
        "id": "sPKm-8F8orv4",
        "outputId": "1d8c2ddb-3f83-4d9c-96de-a6f139b07a2f"
      },
      "source": [
        "# Since S=Southampton is the most occuring port of embarkation, impute the missing values with that (Mode)\n",
        "train.loc[(train.Embarked.isnull()),'Embarked'] = \"S\"\n",
        "train.info()"
      ],
      "execution_count": 12,
      "outputs": [
        {
          "output_type": "stream",
          "text": [
            "<class 'pandas.core.frame.DataFrame'>\n",
            "RangeIndex: 891 entries, 0 to 890\n",
            "Data columns (total 11 columns):\n",
            " #   Column       Non-Null Count  Dtype  \n",
            "---  ------       --------------  -----  \n",
            " 0   PassengerId  891 non-null    int64  \n",
            " 1   Survived     891 non-null    int64  \n",
            " 2   Pclass       891 non-null    int64  \n",
            " 3   Name         891 non-null    object \n",
            " 4   Sex          891 non-null    object \n",
            " 5   Age          891 non-null    float64\n",
            " 6   SibSp        891 non-null    int64  \n",
            " 7   Parch        891 non-null    int64  \n",
            " 8   Ticket       891 non-null    object \n",
            " 9   Fare         891 non-null    float64\n",
            " 10  Embarked     891 non-null    object \n",
            "dtypes: float64(2), int64(5), object(4)\n",
            "memory usage: 76.7+ KB\n"
          ],
          "name": "stdout"
        }
      ]
    },
    {
      "cell_type": "markdown",
      "metadata": {
        "id": "YFwamrmyorv4"
      },
      "source": [
        "**We will look at the variables one by one to see if they provide any information, else we can drop them from the analysis (and the dataset itself).**"
      ]
    },
    {
      "cell_type": "code",
      "metadata": {
        "colab": {
          "base_uri": "https://localhost:8080/"
        },
        "id": "xj9IM3jnorv4",
        "outputId": "3c2289f8-29c6-4d35-8d91-7f60eaaf981d"
      },
      "source": [
        "# Overall distribution of the survived passengers\n",
        "train[\"Survived\"].value_counts(normalize = True)"
      ],
      "execution_count": 13,
      "outputs": [
        {
          "output_type": "execute_result",
          "data": {
            "text/plain": [
              "0    0.616162\n",
              "1    0.383838\n",
              "Name: Survived, dtype: float64"
            ]
          },
          "metadata": {
            "tags": []
          },
          "execution_count": 13
        }
      ]
    },
    {
      "cell_type": "code",
      "metadata": {
        "colab": {
          "base_uri": "https://localhost:8080/",
          "height": 371
        },
        "id": "1laX793Jorv5",
        "outputId": "5be5eb77-e791-40c8-c27d-d7500616f31d"
      },
      "source": [
        "# Unfortunately, 62% of the passengers could not survive. Below is the bar chart for the absolute numbers\n",
        "sns.countplot('Survived',data=train).set_title('Survival Count')"
      ],
      "execution_count": 14,
      "outputs": [
        {
          "output_type": "stream",
          "text": [
            "/usr/local/lib/python3.7/dist-packages/seaborn/_decorators.py:43: FutureWarning: Pass the following variable as a keyword arg: x. From version 0.12, the only valid positional argument will be `data`, and passing other arguments without an explicit keyword will result in an error or misinterpretation.\n",
            "  FutureWarning\n"
          ],
          "name": "stderr"
        },
        {
          "output_type": "execute_result",
          "data": {
            "text/plain": [
              "Text(0.5, 1.0, 'Survival Count')"
            ]
          },
          "metadata": {
            "tags": []
          },
          "execution_count": 14
        },
        {
          "output_type": "display_data",
          "data": {
            "image/png": "[encoded data removed]",
            "text/plain": [
              "<Figure size 432x288 with 1 Axes>"
            ]
          },
          "metadata": {
            "tags": [],
            "needs_background": "light"
          }
        }
      ]
    },
    {
      "cell_type": "code",
      "metadata": {
        "colab": {
          "base_uri": "https://localhost:8080/",
          "height": 142
        },
        "id": "2BwAjzBiorv8",
        "outputId": "cc850d28-740b-480e-801d-3ba60bc1fb90"
      },
      "source": [
        "# Survival Rates by Gender\n",
        "pd.crosstab(train.Survived, train.Sex, normalize='index')"
      ],
      "execution_count": 15,
      "outputs": [
        {
          "output_type": "execute_result",
          "data": {
            "text/html": [
              "<div>\n",
              "<style scoped>\n",
              "    .dataframe tbody tr th:only-of-type {\n",
              "        vertical-align: middle;\n",
              "    }\n",
              "\n",
              "    .dataframe tbody tr th {\n",
              "        vertical-align: top;\n",
              "    }\n",
              "\n",
              "    .dataframe thead th {\n",
              "        text-align: right;\n",
              "    }\n",
              "</style>\n",
              "<table border=\"1\" class=\"dataframe\">\n",
              "  <thead>\n",
              "    <tr style=\"text-align: right;\">\n",
              "      <th>Sex</th>\n",
              "      <th>female</th>\n",
              "      <th>male</th>\n",
              "    </tr>\n",
              "    <tr>\n",
              "      <th>Survived</th>\n",
              "      <th></th>\n",
              "      <th></th>\n",
              "    </tr>\n",
              "  </thead>\n",
              "  <tbody>\n",
              "    <tr>\n",
              "      <th>0</th>\n",
              "      <td>0.147541</td>\n",
              "      <td>0.852459</td>\n",
              "    </tr>\n",
              "    <tr>\n",
              "      <th>1</th>\n",
              "      <td>0.681287</td>\n",
              "      <td>0.318713</td>\n",
              "    </tr>\n",
              "  </tbody>\n",
              "</table>\n",
              "</div>"
            ],
            "text/plain": [
              "Sex         female      male\n",
              "Survived                    \n",
              "0         0.147541  0.852459\n",
              "1         0.681287  0.318713"
            ]
          },
          "metadata": {
            "tags": []
          },
          "execution_count": 15
        }
      ]
    },
    {
      "cell_type": "code",
      "metadata": {
        "colab": {
          "base_uri": "https://localhost:8080/",
          "height": 371
        },
        "id": "Sh255b1morv8",
        "outputId": "be56b339-2d3e-4d63-a217-c45c15dc2c7e"
      },
      "source": [
        "# Plot the survival count by Gender\n",
        "sns.countplot('Sex',hue='Survived',data=train).set_title('Survival by Gender')"
      ],
      "execution_count": 16,
      "outputs": [
        {
          "output_type": "stream",
          "text": [
            "/usr/local/lib/python3.7/dist-packages/seaborn/_decorators.py:43: FutureWarning: Pass the following variable as a keyword arg: x. From version 0.12, the only valid positional argument will be `data`, and passing other arguments without an explicit keyword will result in an error or misinterpretation.\n",
            "  FutureWarning\n"
          ],
          "name": "stderr"
        },
        {
          "output_type": "execute_result",
          "data": {
            "text/plain": [
              "Text(0.5, 1.0, 'Survival by Gender')"
            ]
          },
          "metadata": {
            "tags": []
          },
          "execution_count": 16
        },
        {
          "output_type": "display_data",
          "data": {
            "image/png": "[encoded data removed]",
            "text/plain": [
              "<Figure size 432x288 with 1 Axes>"
            ]
          },
          "metadata": {
            "tags": [],
            "needs_background": "light"
          }
        }
      ]
    },
    {
      "cell_type": "markdown",
      "metadata": {
        "id": "cymX7x4Uorv9"
      },
      "source": [
        "Females have very high chances of survival compared to the males - 68% vs. 32% respectively"
      ]
    },
    {
      "cell_type": "code",
      "metadata": {
        "colab": {
          "base_uri": "https://localhost:8080/",
          "height": 142
        },
        "id": "PLsyOo8Morv9",
        "outputId": "c4e85c7c-41d0-4aa8-b913-f37ecffdb45f"
      },
      "source": [
        "# Next we will explore the Passenger Class variable\n",
        "pd.crosstab(train.Survived, train.Pclass, normalize='index')"
      ],
      "execution_count": 17,
      "outputs": [
        {
          "output_type": "execute_result",
          "data": {
            "text/html": [
              "<div>\n",
              "<style scoped>\n",
              "    .dataframe tbody tr th:only-of-type {\n",
              "        vertical-align: middle;\n",
              "    }\n",
              "\n",
              "    .dataframe tbody tr th {\n",
              "        vertical-align: top;\n",
              "    }\n",
              "\n",
              "    .dataframe thead th {\n",
              "        text-align: right;\n",
              "    }\n",
              "</style>\n",
              "<table border=\"1\" class=\"dataframe\">\n",
              "  <thead>\n",
              "    <tr style=\"text-align: right;\">\n",
              "      <th>Pclass</th>\n",
              "      <th>1</th>\n",
              "      <th>2</th>\n",
              "      <th>3</th>\n",
              "    </tr>\n",
              "    <tr>\n",
              "      <th>Survived</th>\n",
              "      <th></th>\n",
              "      <th></th>\n",
              "      <th></th>\n",
              "    </tr>\n",
              "  </thead>\n",
              "  <tbody>\n",
              "    <tr>\n",
              "      <th>0</th>\n",
              "      <td>0.145719</td>\n",
              "      <td>0.176685</td>\n",
              "      <td>0.677596</td>\n",
              "    </tr>\n",
              "    <tr>\n",
              "      <th>1</th>\n",
              "      <td>0.397661</td>\n",
              "      <td>0.254386</td>\n",
              "      <td>0.347953</td>\n",
              "    </tr>\n",
              "  </tbody>\n",
              "</table>\n",
              "</div>"
            ],
            "text/plain": [
              "Pclass           1         2         3\n",
              "Survived                              \n",
              "0         0.145719  0.176685  0.677596\n",
              "1         0.397661  0.254386  0.347953"
            ]
          },
          "metadata": {
            "tags": []
          },
          "execution_count": 17
        }
      ]
    },
    {
      "cell_type": "code",
      "metadata": {
        "colab": {
          "base_uri": "https://localhost:8080/",
          "height": 371
        },
        "id": "gRA-hhc7orv9",
        "outputId": "7682a908-e846-47d4-d196-fc46d3c609f3"
      },
      "source": [
        "# Plot the survival count by Passenger Class\n",
        "sns.countplot('Pclass',hue='Survived',data=train).set_title('Survival by Passenger Class')"
      ],
      "execution_count": 18,
      "outputs": [
        {
          "output_type": "stream",
          "text": [
            "/usr/local/lib/python3.7/dist-packages/seaborn/_decorators.py:43: FutureWarning: Pass the following variable as a keyword arg: x. From version 0.12, the only valid positional argument will be `data`, and passing other arguments without an explicit keyword will result in an error or misinterpretation.\n",
            "  FutureWarning\n"
          ],
          "name": "stderr"
        },
        {
          "output_type": "execute_result",
          "data": {
            "text/plain": [
              "Text(0.5, 1.0, 'Survival by Passenger Class')"
            ]
          },
          "metadata": {
            "tags": []
          },
          "execution_count": 18
        },
        {
          "output_type": "display_data",
          "data": {
            "image/png": "[encoded data removed]",
            "text/plain": [
              "<Figure size 432x288 with 1 Axes>"
            ]
          },
          "metadata": {
            "tags": [],
            "needs_background": "light"
          }
        }
      ]
    },
    {
      "cell_type": "markdown",
      "metadata": {
        "id": "qr8VFuNNorv9"
      },
      "source": [
        "At first glance, it looked like 35% survivors from 3rd class is not far behind the 40% from 1st class. But the maximum non survivors are also coming the 3rd class - 68%.\n",
        "When we dug deeper into this by looking at the absolute count, we found that majority of passengers are from the 3rd class. Even though maximum passengers come from 3rd class, it clearly looks like the passengers from the 1st class (rich people) were given priority in terms of rescue/safety measures.\n",
        "\n"
      ]
    },
    {
      "cell_type": "code",
      "metadata": {
        "colab": {
          "base_uri": "https://localhost:8080/",
          "height": 371
        },
        "id": "zmkGPw3Horv-",
        "outputId": "62d39d61-ce7b-4cbf-fa4d-7975680322a7"
      },
      "source": [
        "# Create a boxplot for the Fare distribution of each class\n",
        "sns.boxplot(\"Pclass\", \"Fare\", data=train, palette=[\"lightblue\", \"lightpink\", \"lightgreen\"]).set_title('Fare Distribution by Pclass')"
      ],
      "execution_count": 19,
      "outputs": [
        {
          "output_type": "stream",
          "text": [
            "/usr/local/lib/python3.7/dist-packages/seaborn/_decorators.py:43: FutureWarning: Pass the following variables as keyword args: x, y. From version 0.12, the only valid positional argument will be `data`, and passing other arguments without an explicit keyword will result in an error or misinterpretation.\n",
            "  FutureWarning\n"
          ],
          "name": "stderr"
        },
        {
          "output_type": "execute_result",
          "data": {
            "text/plain": [
              "Text(0.5, 1.0, 'Fare Distribution by Pclass')"
            ]
          },
          "metadata": {
            "tags": []
          },
          "execution_count": 19
        },
        {
          "output_type": "display_data",
          "data": {
            "image/png": "[encoded data removed]",
            "text/plain": [
              "<Figure size 432x288 with 1 Axes>"
            ]
          },
          "metadata": {
            "tags": [],
            "needs_background": "light"
          }
        }
      ]
    },
    {
      "cell_type": "code",
      "metadata": {
        "colab": {
          "base_uri": "https://localhost:8080/",
          "height": 372
        },
        "id": "61HR4n0lorv-",
        "outputId": "0ad69027-5071-4a9e-f992-645415f8b1e4"
      },
      "source": [
        "# Same story told by the fare distributions of survived vs. non survived passensers below\n",
        "plt.figure(figsize = (10,5))\n",
        "sns.kdeplot(train[\"Fare\"][train.Survived == 0], color = \"lightpink\", shade = True)\n",
        "sns.kdeplot(train[\"Fare\"][train.Survived == 1], color = \"lightgreen\", shade = True)\n",
        "plt.title(\"Fare distribution of Survivors vs. Non Survivors\")\n",
        "plt.legend(['Survived = 0', 'Survived = 1'])"
      ],
      "execution_count": 20,
      "outputs": [
        {
          "output_type": "execute_result",
          "data": {
            "text/plain": [
              "<matplotlib.legend.Legend at 0x7f1c5a1cf810>"
            ]
          },
          "metadata": {
            "tags": []
          },
          "execution_count": 20
        },
        {
          "output_type": "display_data",
          "data": {
            "image/png": "[encoded data removed]",
            "text/plain": [
              "<Figure size 720x360 with 1 Axes>"
            ]
          },
          "metadata": {
            "tags": [],
            "needs_background": "light"
          }
        }
      ]
    },
    {
      "cell_type": "code",
      "metadata": {
        "colab": {
          "base_uri": "https://localhost:8080/",
          "height": 242
        },
        "id": "KcTnpLwVorv-",
        "outputId": "f8ee25ba-6bb2-4966-e8b8-0de588e46f52"
      },
      "source": [
        "# Let's look into the Age factor\n",
        "# Like fare, it is a continuous variable so let's plot a histogram to check the distribution\n",
        "sns.FacetGrid(train, col='Survived').map(plt.hist, 'Age', bins=20)"
      ],
      "execution_count": 21,
      "outputs": [
        {
          "output_type": "execute_result",
          "data": {
            "text/plain": [
              "<seaborn.axisgrid.FacetGrid at 0x7f1c5a1bcd90>"
            ]
          },
          "metadata": {
            "tags": []
          },
          "execution_count": 21
        },
        {
          "output_type": "display_data",
          "data": {
            "image/png": "[encoded data removed]",
            "text/plain": [
              "<Figure size 432x216 with 2 Axes>"
            ]
          },
          "metadata": {
            "tags": [],
            "needs_background": "light"
          }
        }
      ]
    },
    {
      "cell_type": "code",
      "metadata": {
        "colab": {
          "base_uri": "https://localhost:8080/",
          "height": 371
        },
        "id": "SMOR8Ze0orv-",
        "outputId": "dcd909a5-8b43-4b44-fa59-122faafdcfd5"
      },
      "source": [
        "# Create a violin plot to check the distribution of Age across the Survivors vs. Non Survivors for each Gender\n",
        "sns.violinplot(\"Sex\",\"Age\", hue=\"Survived\", data = train, split = True).set_title(\"Age distribution of Survivors vs. Non Survivors by Gender\")"
      ],
      "execution_count": 22,
      "outputs": [
        {
          "output_type": "stream",
          "text": [
            "/usr/local/lib/python3.7/dist-packages/seaborn/_decorators.py:43: FutureWarning: Pass the following variables as keyword args: x, y. From version 0.12, the only valid positional argument will be `data`, and passing other arguments without an explicit keyword will result in an error or misinterpretation.\n",
            "  FutureWarning\n"
          ],
          "name": "stderr"
        },
        {
          "output_type": "execute_result",
          "data": {
            "text/plain": [
              "Text(0.5, 1.0, 'Age distribution of Survivors vs. Non Survivors by Gender')"
            ]
          },
          "metadata": {
            "tags": []
          },
          "execution_count": 22
        },
        {
          "output_type": "display_data",
          "data": {
            "image/png": "[encoded data removed]",
            "text/plain": [
              "<Figure size 432x288 with 1 Axes>"
            ]
          },
          "metadata": {
            "tags": [],
            "needs_background": "light"
          }
        }
      ]
    },
    {
      "cell_type": "markdown",
      "metadata": {
        "id": "2GNuuX2porv-"
      },
      "source": [
        "From the histogram, we can see that the non survivors count is very high above 30 yrs of age and maximum survivors seem to be either < 10 yrs or between 20-30. From the violin plot split by Gender, we can say that, generally speaking, the females have higher chances of survival despite the given age. But below 15 there is some (very little though) evidence that young boys have better survival chances than girls of their age, but that could be just a matter of overall count"
      ]
    },
    {
      "cell_type": "code",
      "metadata": {
        "colab": {
          "base_uri": "https://localhost:8080/",
          "height": 142
        },
        "id": "yCwMseJDorv_",
        "outputId": "ffd9e98d-0174-4b90-de91-1d9aa8081be5"
      },
      "source": [
        "# Next, we explore the Embarked variable\n",
        "pd.crosstab(train.Survived, train.Embarked, normalize='index')"
      ],
      "execution_count": 23,
      "outputs": [
        {
          "output_type": "execute_result",
          "data": {
            "text/html": [
              "<div>\n",
              "<style scoped>\n",
              "    .dataframe tbody tr th:only-of-type {\n",
              "        vertical-align: middle;\n",
              "    }\n",
              "\n",
              "    .dataframe tbody tr th {\n",
              "        vertical-align: top;\n",
              "    }\n",
              "\n",
              "    .dataframe thead th {\n",
              "        text-align: right;\n",
              "    }\n",
              "</style>\n",
              "<table border=\"1\" class=\"dataframe\">\n",
              "  <thead>\n",
              "    <tr style=\"text-align: right;\">\n",
              "      <th>Embarked</th>\n",
              "      <th>C</th>\n",
              "      <th>Q</th>\n",
              "      <th>S</th>\n",
              "    </tr>\n",
              "    <tr>\n",
              "      <th>Survived</th>\n",
              "      <th></th>\n",
              "      <th></th>\n",
              "      <th></th>\n",
              "    </tr>\n",
              "  </thead>\n",
              "  <tbody>\n",
              "    <tr>\n",
              "      <th>0</th>\n",
              "      <td>0.136612</td>\n",
              "      <td>0.085610</td>\n",
              "      <td>0.777778</td>\n",
              "    </tr>\n",
              "    <tr>\n",
              "      <th>1</th>\n",
              "      <td>0.271930</td>\n",
              "      <td>0.087719</td>\n",
              "      <td>0.640351</td>\n",
              "    </tr>\n",
              "  </tbody>\n",
              "</table>\n",
              "</div>"
            ],
            "text/plain": [
              "Embarked         C         Q         S\n",
              "Survived                              \n",
              "0         0.136612  0.085610  0.777778\n",
              "1         0.271930  0.087719  0.640351"
            ]
          },
          "metadata": {
            "tags": []
          },
          "execution_count": 23
        }
      ]
    },
    {
      "cell_type": "code",
      "metadata": {
        "colab": {
          "base_uri": "https://localhost:8080/",
          "height": 371
        },
        "id": "ov58Ffg7orv_",
        "outputId": "b94d6a2b-d41d-42d2-8188-aab3502ad9d8"
      },
      "source": [
        "# Plot the absolute count of Survivors by Port\n",
        "sns.countplot('Embarked',hue='Survived',data = train).set_title('Survival by Port of Embarkation')"
      ],
      "execution_count": 24,
      "outputs": [
        {
          "output_type": "stream",
          "text": [
            "/usr/local/lib/python3.7/dist-packages/seaborn/_decorators.py:43: FutureWarning: Pass the following variable as a keyword arg: x. From version 0.12, the only valid positional argument will be `data`, and passing other arguments without an explicit keyword will result in an error or misinterpretation.\n",
            "  FutureWarning\n"
          ],
          "name": "stderr"
        },
        {
          "output_type": "execute_result",
          "data": {
            "text/plain": [
              "Text(0.5, 1.0, 'Survival by Port of Embarkation')"
            ]
          },
          "metadata": {
            "tags": []
          },
          "execution_count": 24
        },
        {
          "output_type": "display_data",
          "data": {
            "image/png": "[encoded data removed]",
            "text/plain": [
              "<Figure size 432x288 with 1 Axes>"
            ]
          },
          "metadata": {
            "tags": [],
            "needs_background": "light"
          }
        }
      ]
    },
    {
      "cell_type": "markdown",
      "metadata": {
        "id": "h5Yv4hDNorv_"
      },
      "source": [
        "From the cross tab, we see that Port S, Southampton seem to have the highest proportion of survivors, but even higher non-survivors. But it could be due to the majority of passengers from that port. The bar plot confirms that and we can also see that passengers boarding at Port C, Cherbourg have the maximum chances of survival.\n",
        "Even though Port S has such a high number of passengers, it has very low survival rate. Let's dive deep into other factors explaining that."
      ]
    },
    {
      "cell_type": "code",
      "metadata": {
        "colab": {
          "base_uri": "https://localhost:8080/",
          "height": 490
        },
        "id": "5oP0XSMPorv_",
        "outputId": "3b8378cc-6b25-415c-b026-98c6ef36c127"
      },
      "source": [
        "# Create a factor plot to include Pclass and Gender variables\n",
        "sns.factorplot('Embarked', 'Survived', hue = 'Sex', col = 'Pclass', data = train)"
      ],
      "execution_count": 25,
      "outputs": [
        {
          "output_type": "stream",
          "text": [
            "/usr/local/lib/python3.7/dist-packages/seaborn/categorical.py:3714: UserWarning: The `factorplot` function has been renamed to `catplot`. The original name will be removed in a future release. Please update your code. Note that the default `kind` in `factorplot` (`'point'`) has changed `'strip'` in `catplot`.\n",
            "  warnings.warn(msg)\n",
            "/usr/local/lib/python3.7/dist-packages/seaborn/_decorators.py:43: FutureWarning: Pass the following variables as keyword args: x, y. From version 0.12, the only valid positional argument will be `data`, and passing other arguments without an explicit keyword will result in an error or misinterpretation.\n",
            "  FutureWarning\n"
          ],
          "name": "stderr"
        },
        {
          "output_type": "execute_result",
          "data": {
            "text/plain": [
              "<seaborn.axisgrid.FacetGrid at 0x7f1c4f77c050>"
            ]
          },
          "metadata": {
            "tags": []
          },
          "execution_count": 25
        },
        {
          "output_type": "display_data",
          "data": {
            "image/png": "[encoded data removed]",
            "text/plain": [
              "<Figure size 1157.97x360 with 3 Axes>"
            ]
          },
          "metadata": {
            "tags": [],
            "needs_background": "light"
          }
        }
      ]
    },
    {
      "cell_type": "markdown",
      "metadata": {
        "id": "Vy9WTo2forv_"
      },
      "source": [
        "The males from the port of Queentown have the least survival chances, whereas the females from the same port have the highest (Literally, \"Queens' Town\"!). Females from class 1 & 2, especially from Port C & Q have extremely high survival rates. Port S has slightly better survival chances than Port Q, only if the passenger is a male."
      ]
    },
    {
      "cell_type": "code",
      "metadata": {
        "colab": {
          "base_uri": "https://localhost:8080/"
        },
        "id": "0Pf-xYAWorv_",
        "outputId": "22973d85-cead-4d18-c38a-885c30013ed9"
      },
      "source": [
        "# Check if the ticket variable has any value add\n",
        "#train.groupby('Ticket').size()\n",
        "len(train.Ticket.unique())"
      ],
      "execution_count": 26,
      "outputs": [
        {
          "output_type": "execute_result",
          "data": {
            "text/plain": [
              "681"
            ]
          },
          "metadata": {
            "tags": []
          },
          "execution_count": 26
        }
      ]
    },
    {
      "cell_type": "markdown",
      "metadata": {
        "id": "7tp3wCaGorwA"
      },
      "source": [
        "Each passenger will have a different ticket number (except very few!). Probably there would be a pattern for different offers onboard but assuming class will take care of that, so there is no value add to the analysis from this variable."
      ]
    },
    {
      "cell_type": "code",
      "metadata": {
        "collapsed": true,
        "id": "-ThRlaJrorwA"
      },
      "source": [
        "# Drop the ticket variable\n",
        "train.drop(['Ticket'],axis=1,inplace=True)"
      ],
      "execution_count": 27,
      "outputs": []
    },
    {
      "cell_type": "code",
      "metadata": {
        "colab": {
          "base_uri": "https://localhost:8080/",
          "height": 142
        },
        "id": "oXt4F_NBorwA",
        "outputId": "37baf05b-ff40-4a30-cdd3-bd9ea938a3f0"
      },
      "source": [
        "# Next, let's explore the SibSp variable\n",
        "pd.crosstab(train.Survived, train.SibSp, normalize='index')"
      ],
      "execution_count": 28,
      "outputs": [
        {
          "output_type": "execute_result",
          "data": {
            "text/html": [
              "<div>\n",
              "<style scoped>\n",
              "    .dataframe tbody tr th:only-of-type {\n",
              "        vertical-align: middle;\n",
              "    }\n",
              "\n",
              "    .dataframe tbody tr th {\n",
              "        vertical-align: top;\n",
              "    }\n",
              "\n",
              "    .dataframe thead th {\n",
              "        text-align: right;\n",
              "    }\n",
              "</style>\n",
              "<table border=\"1\" class=\"dataframe\">\n",
              "  <thead>\n",
              "    <tr style=\"text-align: right;\">\n",
              "      <th>SibSp</th>\n",
              "      <th>0</th>\n",
              "      <th>1</th>\n",
              "      <th>2</th>\n",
              "      <th>3</th>\n",
              "      <th>4</th>\n",
              "      <th>5</th>\n",
              "      <th>8</th>\n",
              "    </tr>\n",
              "    <tr>\n",
              "      <th>Survived</th>\n",
              "      <th></th>\n",
              "      <th></th>\n",
              "      <th></th>\n",
              "      <th></th>\n",
              "      <th></th>\n",
              "      <th></th>\n",
              "      <th></th>\n",
              "    </tr>\n",
              "  </thead>\n",
              "  <tbody>\n",
              "    <tr>\n",
              "      <th>0</th>\n",
              "      <td>0.724954</td>\n",
              "      <td>0.176685</td>\n",
              "      <td>0.027322</td>\n",
              "      <td>0.021858</td>\n",
              "      <td>0.027322</td>\n",
              "      <td>0.009107</td>\n",
              "      <td>0.01275</td>\n",
              "    </tr>\n",
              "    <tr>\n",
              "      <th>1</th>\n",
              "      <td>0.614035</td>\n",
              "      <td>0.327485</td>\n",
              "      <td>0.038012</td>\n",
              "      <td>0.011696</td>\n",
              "      <td>0.008772</td>\n",
              "      <td>0.000000</td>\n",
              "      <td>0.00000</td>\n",
              "    </tr>\n",
              "  </tbody>\n",
              "</table>\n",
              "</div>"
            ],
            "text/plain": [
              "SibSp            0         1         2         3         4         5        8\n",
              "Survived                                                                     \n",
              "0         0.724954  0.176685  0.027322  0.021858  0.027322  0.009107  0.01275\n",
              "1         0.614035  0.327485  0.038012  0.011696  0.008772  0.000000  0.00000"
            ]
          },
          "metadata": {
            "tags": []
          },
          "execution_count": 28
        }
      ]
    },
    {
      "cell_type": "code",
      "metadata": {
        "colab": {
          "base_uri": "https://localhost:8080/",
          "height": 506
        },
        "id": "drZi-0KJorwA",
        "outputId": "c8d594f8-eeba-4284-e9d5-5bf8750b370a"
      },
      "source": [
        "# Create a factor plot to include Gender\n",
        "sns.factorplot('SibSp', 'Survived', hue = 'Sex', data = train)\n",
        "plt.title('Survival rates of SibSp by Gender')"
      ],
      "execution_count": 29,
      "outputs": [
        {
          "output_type": "stream",
          "text": [
            "/usr/local/lib/python3.7/dist-packages/seaborn/categorical.py:3714: UserWarning: The `factorplot` function has been renamed to `catplot`. The original name will be removed in a future release. Please update your code. Note that the default `kind` in `factorplot` (`'point'`) has changed `'strip'` in `catplot`.\n",
            "  warnings.warn(msg)\n",
            "/usr/local/lib/python3.7/dist-packages/seaborn/_decorators.py:43: FutureWarning: Pass the following variables as keyword args: x, y. From version 0.12, the only valid positional argument will be `data`, and passing other arguments without an explicit keyword will result in an error or misinterpretation.\n",
            "  FutureWarning\n"
          ],
          "name": "stderr"
        },
        {
          "output_type": "execute_result",
          "data": {
            "text/plain": [
              "Text(0.5, 1.0, 'Survival rates of SibSp by Gender')"
            ]
          },
          "metadata": {
            "tags": []
          },
          "execution_count": 29
        },
        {
          "output_type": "display_data",
          "data": {
            "image/png": "[encoded data removed]",
            "text/plain": [
              "<Figure size 437.975x360 with 1 Axes>"
            ]
          },
          "metadata": {
            "tags": [],
            "needs_background": "light"
          }
        }
      ]
    },
    {
      "cell_type": "markdown",
      "metadata": {
        "id": "lBu1iqeworwB"
      },
      "source": [
        "From the crosstab, we see that the highest number of survivors are from the category which does not have any sibling (or spouse) aboard. The factor plot reveals that if the passenger is a female, she still has very similar chances of survival whether travelling alone or with 1-2 siblings/spouse. Probably the \"partner\" would make sure that their female travel partner is safe first. Interestingly, the males have better chances of survival when they travel with a partner (mutual care!) and not just alone."
      ]
    },
    {
      "cell_type": "code",
      "metadata": {
        "colab": {
          "base_uri": "https://localhost:8080/",
          "height": 142
        },
        "id": "5TplEBhSorwB",
        "outputId": "55a878ff-bd94-4dbf-8ff2-45cc6a5e9d61"
      },
      "source": [
        "# Lastly, we take a look at the Parch variable\n",
        "pd.crosstab(train.Survived, train.Parch, normalize='index')"
      ],
      "execution_count": 30,
      "outputs": [
        {
          "output_type": "execute_result",
          "data": {
            "text/html": [
              "<div>\n",
              "<style scoped>\n",
              "    .dataframe tbody tr th:only-of-type {\n",
              "        vertical-align: middle;\n",
              "    }\n",
              "\n",
              "    .dataframe tbody tr th {\n",
              "        vertical-align: top;\n",
              "    }\n",
              "\n",
              "    .dataframe thead th {\n",
              "        text-align: right;\n",
              "    }\n",
              "</style>\n",
              "<table border=\"1\" class=\"dataframe\">\n",
              "  <thead>\n",
              "    <tr style=\"text-align: right;\">\n",
              "      <th>Parch</th>\n",
              "      <th>0</th>\n",
              "      <th>1</th>\n",
              "      <th>2</th>\n",
              "      <th>3</th>\n",
              "      <th>4</th>\n",
              "      <th>5</th>\n",
              "      <th>6</th>\n",
              "    </tr>\n",
              "    <tr>\n",
              "      <th>Survived</th>\n",
              "      <th></th>\n",
              "      <th></th>\n",
              "      <th></th>\n",
              "      <th></th>\n",
              "      <th></th>\n",
              "      <th></th>\n",
              "      <th></th>\n",
              "    </tr>\n",
              "  </thead>\n",
              "  <tbody>\n",
              "    <tr>\n",
              "      <th>0</th>\n",
              "      <td>0.810565</td>\n",
              "      <td>0.096539</td>\n",
              "      <td>0.072860</td>\n",
              "      <td>0.003643</td>\n",
              "      <td>0.007286</td>\n",
              "      <td>0.007286</td>\n",
              "      <td>0.001821</td>\n",
              "    </tr>\n",
              "    <tr>\n",
              "      <th>1</th>\n",
              "      <td>0.681287</td>\n",
              "      <td>0.190058</td>\n",
              "      <td>0.116959</td>\n",
              "      <td>0.008772</td>\n",
              "      <td>0.000000</td>\n",
              "      <td>0.002924</td>\n",
              "      <td>0.000000</td>\n",
              "    </tr>\n",
              "  </tbody>\n",
              "</table>\n",
              "</div>"
            ],
            "text/plain": [
              "Parch            0         1         2         3         4         5         6\n",
              "Survived                                                                      \n",
              "0         0.810565  0.096539  0.072860  0.003643  0.007286  0.007286  0.001821\n",
              "1         0.681287  0.190058  0.116959  0.008772  0.000000  0.002924  0.000000"
            ]
          },
          "metadata": {
            "tags": []
          },
          "execution_count": 30
        }
      ]
    },
    {
      "cell_type": "code",
      "metadata": {
        "colab": {
          "base_uri": "https://localhost:8080/",
          "height": 506
        },
        "id": "yEoTbyjeorwB",
        "outputId": "e16bb314-5bed-45df-e33b-c89334b98789"
      },
      "source": [
        "# Create a factor plot to include Gender\n",
        "sns.factorplot('Parch', 'Survived', hue = 'Sex', data = train)\n",
        "plt.title('Survival rates of Parch by Gender')"
      ],
      "execution_count": 31,
      "outputs": [
        {
          "output_type": "stream",
          "text": [
            "/usr/local/lib/python3.7/dist-packages/seaborn/categorical.py:3714: UserWarning: The `factorplot` function has been renamed to `catplot`. The original name will be removed in a future release. Please update your code. Note that the default `kind` in `factorplot` (`'point'`) has changed `'strip'` in `catplot`.\n",
            "  warnings.warn(msg)\n",
            "/usr/local/lib/python3.7/dist-packages/seaborn/_decorators.py:43: FutureWarning: Pass the following variables as keyword args: x, y. From version 0.12, the only valid positional argument will be `data`, and passing other arguments without an explicit keyword will result in an error or misinterpretation.\n",
            "  FutureWarning\n"
          ],
          "name": "stderr"
        },
        {
          "output_type": "execute_result",
          "data": {
            "text/plain": [
              "Text(0.5, 1.0, 'Survival rates of Parch by Gender')"
            ]
          },
          "metadata": {
            "tags": []
          },
          "execution_count": 31
        },
        {
          "output_type": "display_data",
          "data": {
            "image/png": "[encoded data removed]",
            "text/plain": [
              "<Figure size 437.975x360 with 1 Axes>"
            ]
          },
          "metadata": {
            "tags": [],
            "needs_background": "light"
          }
        }
      ]
    },
    {
      "cell_type": "markdown",
      "metadata": {
        "id": "9IMz7vxVorwB"
      },
      "source": [
        "From the crosstab, we can see that the highest number of survivors are from the category which does not have any family aboard. But the story is similar to the sibling/spouse variable.\n",
        "From the factor plot, we see that the females have very high chances of survival when they travel alone or the number of parents/children is 1-3. Males have some chances of survival when they travel alone or a little higher when the number of parents/children is 1-2, but zero chances when that exceeds 2. Overall, survival is more likely if travelling in alone or in a small family."
      ]
    },
    {
      "cell_type": "markdown",
      "metadata": {
        "id": "8sbaAQORorwB"
      },
      "source": [
        "### **Step 3: Model Development**"
      ]
    },
    {
      "cell_type": "markdown",
      "metadata": {
        "id": "-WmmhFPxorwB"
      },
      "source": [
        "**Now that the EDA is done, we are ready to process the data for the model development which also requires some feature engineering.**"
      ]
    },
    {
      "cell_type": "code",
      "metadata": {
        "colab": {
          "base_uri": "https://localhost:8080/"
        },
        "id": "XpkhGL4UorwB",
        "outputId": "38473f87-ec97-4e6f-ffc7-ed3d6ef44d34"
      },
      "source": [
        "# From the 12 columns of the training dataset, we have already dropped Cabin and Ticket\n",
        "# We do not need Name and PassengerID, so let's drop them\n",
        "train.drop(['Name','PassengerId'],axis=1,inplace=True)\n",
        "train.info()"
      ],
      "execution_count": 32,
      "outputs": [
        {
          "output_type": "stream",
          "text": [
            "<class 'pandas.core.frame.DataFrame'>\n",
            "RangeIndex: 891 entries, 0 to 890\n",
            "Data columns (total 8 columns):\n",
            " #   Column    Non-Null Count  Dtype  \n",
            "---  ------    --------------  -----  \n",
            " 0   Survived  891 non-null    int64  \n",
            " 1   Pclass    891 non-null    int64  \n",
            " 2   Sex       891 non-null    object \n",
            " 3   Age       891 non-null    float64\n",
            " 4   SibSp     891 non-null    int64  \n",
            " 5   Parch     891 non-null    int64  \n",
            " 6   Fare      891 non-null    float64\n",
            " 7   Embarked  891 non-null    object \n",
            "dtypes: float64(2), int64(4), object(2)\n",
            "memory usage: 55.8+ KB\n"
          ],
          "name": "stdout"
        }
      ]
    },
    {
      "cell_type": "code",
      "metadata": {
        "collapsed": true,
        "id": "GCEoweBAorwC"
      },
      "source": [
        "# Convert the male and female groups to integer form\n",
        "train[\"Gender\"] = 0\n",
        "train.loc[train['Sex']=='male','Gender']=0\n",
        "train.loc[train['Sex']=='female','Gender']=1\n",
        "\n",
        "# Convert the Embarked classes to integer form\n",
        "train[\"Port\"] = 0\n",
        "train.loc[train['Embarked']=='S','Port']=0\n",
        "train.loc[train['Embarked']=='C','Port']=1\n",
        "train.loc[train['Embarked']=='Q','Port']=2\n",
        "\n",
        "# Create buckets for Age\n",
        "train[\"Age_cat\"] = 0\n",
        "train.loc[train['Age']<=12,'Age_cat']=0\n",
        "train.loc[(train['Age']>12)&(train['Age']<=20),'Age_cat']=1\n",
        "train.loc[(train['Age']>20)&(train['Age']<=35),'Age_cat']=2\n",
        "train.loc[(train['Age']>35)&(train['Age']<=50),'Age_cat']=3\n",
        "train.loc[train['Age']>50,'Age_cat']=4\n",
        "\n",
        "# Create buckets for Fare\n",
        "train[\"Fare_cat\"] = 0\n",
        "train.loc[train['Fare']<=8,'Fare_cat']=0\n",
        "train.loc[(train['Fare']>8)&(train['Fare']<=15),'Fare_cat']=1\n",
        "train.loc[(train['Fare']>15)&(train['Fare']<=31),'Fare_cat']=2\n",
        "train.loc[train['Fare']>31,'Fare_cat']=3\n",
        "\n",
        "# Create a new variable family size and buckets for the same as travel_company\n",
        "train[\"family_size\"] = train[\"SibSp\"] + train[\"Parch\"] + 1\n",
        "train[\"travel_company\"] = 0\n",
        "train.loc[train['family_size']<=1,'travel_company']=0\n",
        "train.loc[(train['family_size']>1)&(train['family_size']<=4),'travel_company']=1\n",
        "train.loc[train['family_size']>4,'travel_company']=2"
      ],
      "execution_count": 33,
      "outputs": []
    },
    {
      "cell_type": "code",
      "metadata": {
        "colab": {
          "base_uri": "https://localhost:8080/"
        },
        "id": "RP4MVq03orwC",
        "outputId": "08132b39-e397-40c2-b5b6-b9a6ec2607d4"
      },
      "source": [
        "# Remove the unneccessary vaiables and make sure the new variables got added\n",
        "#train.describe()\n",
        "#train.info()\n",
        "train.drop(['Sex','Age','SibSp','Parch','Fare','Embarked','family_size'],axis=1,inplace=True)\n",
        "#train.describe()\n",
        "train.info()"
      ],
      "execution_count": 34,
      "outputs": [
        {
          "output_type": "stream",
          "text": [
            "<class 'pandas.core.frame.DataFrame'>\n",
            "RangeIndex: 891 entries, 0 to 890\n",
            "Data columns (total 7 columns):\n",
            " #   Column          Non-Null Count  Dtype\n",
            "---  ------          --------------  -----\n",
            " 0   Survived        891 non-null    int64\n",
            " 1   Pclass          891 non-null    int64\n",
            " 2   Gender          891 non-null    int64\n",
            " 3   Port            891 non-null    int64\n",
            " 4   Age_cat         891 non-null    int64\n",
            " 5   Fare_cat        891 non-null    int64\n",
            " 6   travel_company  891 non-null    int64\n",
            "dtypes: int64(7)\n",
            "memory usage: 48.9 KB\n"
          ],
          "name": "stdout"
        }
      ]
    },
    {
      "cell_type": "code",
      "metadata": {
        "colab": {
          "base_uri": "https://localhost:8080/",
          "height": 379
        },
        "id": "MY7RRAw0orwC",
        "outputId": "2fce6311-1c95-40d4-e196-2c2b1b9acde5"
      },
      "source": [
        "# Check the correlation among the rest of the available variables\n",
        "sns.heatmap(train.corr()).set_title('Correlation Heat map for candidate variables')"
      ],
      "execution_count": 35,
      "outputs": [
        {
          "output_type": "execute_result",
          "data": {
            "text/plain": [
              "Text(0.5, 1.0, 'Correlation Heat map for candidate variables')"
            ]
          },
          "metadata": {
            "tags": []
          },
          "execution_count": 35
        },
        {
          "output_type": "display_data",
          "data": {
            "image/png": "[encoded data removed]",
            "text/plain": [
              "<Figure size 432x288 with 2 Axes>"
            ]
          },
          "metadata": {
            "tags": [],
            "needs_background": "light"
          }
        }
      ]
    },
    {
      "cell_type": "markdown",
      "metadata": {
        "id": "5axI-jQdorwC"
      },
      "source": [
        "There is slightly positive correlation between Fare category and travel company which could mean if you are travelling alone, you could adjust in cabins with lower fares but when you travel with family/partner, you would prefer better stay arrangements. There is also a strong negative correlation between Passenger class and Fare category because higher the class (1 being highest here), the more fare you pay. We can still keep these in the preliminary model and see if removing Fare gives a better model later."
      ]
    },
    {
      "cell_type": "markdown",
      "metadata": {
        "id": "C_VrfMDjorwC"
      },
      "source": [
        "**Time to finally start developing the prediction model.**\n"
      ]
    },
    {
      "cell_type": "code",
      "metadata": {
        "collapsed": true,
        "id": "H7Vpt6EOorwC"
      },
      "source": [
        "# Separating the response (y) and explanatory (x) variables\n",
        "#X = train[[\"Pclass\", \"Gender\", \"Port\", \"Age_cat\", \"Fare_cat\", \"travel_company\"]].values\n",
        "# Removing the Fare category increases the model accuracy, so decided to exclude that from the final models\n",
        "X = train[[\"Pclass\", \"Gender\", \"Port\", \"Age_cat\", \"travel_company\"]].values\n",
        "y = train[\"Survived\"].values"
      ],
      "execution_count": 36,
      "outputs": []
    },
    {
      "cell_type": "code",
      "metadata": {
        "collapsed": true,
        "id": "OE1Jt_dqorwD"
      },
      "source": [
        "# Splitting the dataset into test and training with 80% for training the model\n",
        "X_train, X_test, y_train, y_test = train_test_split(X, y, test_size = .2, random_state=25)"
      ],
      "execution_count": 37,
      "outputs": []
    },
    {
      "cell_type": "code",
      "metadata": {
        "colab": {
          "base_uri": "https://localhost:8080/"
        },
        "id": "IlwsPqgforwD",
        "outputId": "712f87c2-7943-4c15-a0e1-3d90a9202721"
      },
      "source": [
        "# Building the Logistic Regression model using the training dataset\n",
        "LogReg = LogisticRegression()\n",
        "LogReg.fit(X_train, y_train)\n",
        "\n",
        "# Testing the model with the test dataset (do not confuse with the actual Test dataset)\n",
        "y_pred = LogReg.predict(X_test)\n",
        "print('The model accuracy is', metrics.accuracy_score(y_pred, y_test))\n",
        "print('The R-square value is', metrics.r2_score(y_pred, y_test)) \n",
        "#Although R-square doesn't provide a lot of info in binary models"
      ],
      "execution_count": 38,
      "outputs": [
        {
          "output_type": "stream",
          "text": [
            "The model accuracy is 0.7821229050279329\n",
            "The R-square value is 0.07511923688394273\n"
          ],
          "name": "stdout"
        }
      ]
    },
    {
      "cell_type": "code",
      "metadata": {
        "colab": {
          "base_uri": "https://localhost:8080/"
        },
        "id": "fSZHtOWNorwD",
        "outputId": "7493f50d-5292-4229-c832-c83ca991af4a"
      },
      "source": [
        "# Building the Decision tree model using the training dataset\n",
        "DecTree = tree.DecisionTreeClassifier()\n",
        "DecTree.fit(X_train, y_train)\n",
        "\n",
        "# Testing the model with the test dataset (do not confuse with the actual Test dataset)\n",
        "y_pred = DecTree.predict(X_test)\n",
        "print('The model accuracy is', metrics.accuracy_score(y_pred, y_test))\n",
        "print('The R-square value is', metrics.r2_score(y_pred, y_test))\n",
        "#Although R-square doesn't provide a lot of info in binary models"
      ],
      "execution_count": 39,
      "outputs": [
        {
          "output_type": "stream",
          "text": [
            "The model accuracy is 0.8100558659217877\n",
            "The R-square value is 0.14039548022598858\n"
          ],
          "name": "stdout"
        }
      ]
    },
    {
      "cell_type": "code",
      "metadata": {
        "colab": {
          "base_uri": "https://localhost:8080/"
        },
        "id": "cX3CxFCPorwD",
        "outputId": "9e99a765-d14d-4825-bf39-1c64e648cb4a"
      },
      "source": [
        "# Building the Random forest model using the training dataset\n",
        "RandFor = RandomForestClassifier(max_depth = 6, min_samples_split=2, n_estimators = 100, random_state = 1)\n",
        "RandFor.fit(X_train, y_train)\n",
        "\n",
        "# Testing the model with the test dataset (do not confuse with the actual Test dataset)\n",
        "y_pred = RandFor.predict(X_test)\n",
        "print('The model accuracy is', metrics.accuracy_score(y_pred, y_test))\n",
        "print('The R-square value is', metrics.r2_score(y_pred, y_test))\n",
        "#Although R-square doesn't provide a lot of info in binary models"
      ],
      "execution_count": 40,
      "outputs": [
        {
          "output_type": "stream",
          "text": [
            "The model accuracy is 0.8268156424581006\n",
            "The R-square value is 0.17792592592592604\n"
          ],
          "name": "stdout"
        }
      ]
    },
    {
      "cell_type": "code",
      "metadata": {
        "colab": {
          "base_uri": "https://localhost:8080/"
        },
        "id": "pmmTJRGyorwD",
        "outputId": "9a9abf05-8940-468d-cd32-157fd7589d95"
      },
      "source": [
        "# Also compare the feature importance of the Decision tree and Random forest models\n",
        "print(DecTree.feature_importances_)\n",
        "print(RandFor.feature_importances_)"
      ],
      "execution_count": 41,
      "outputs": [
        {
          "output_type": "stream",
          "text": [
            "[0.18806676 0.53750269 0.01577471 0.10691512 0.15174072]\n",
            "[0.18677212 0.52149811 0.04503794 0.13873524 0.1079566 ]\n"
          ],
          "name": "stdout"
        }
      ]
    },
    {
      "cell_type": "markdown",
      "metadata": {
        "id": "1HITXd9korwD"
      },
      "source": [
        "### **Step 4: Make Predictions on unseen data**"
      ]
    },
    {
      "cell_type": "markdown",
      "metadata": {
        "id": "RZFCcNeForwD"
      },
      "source": [
        "**Based on the above comparison, I choose to go with the Random Forest model as it has the highest accuracy score.**"
      ]
    },
    {
      "cell_type": "code",
      "metadata": {
        "colab": {
          "base_uri": "https://localhost:8080/"
        },
        "id": "yd8F6T5jorwE",
        "outputId": "7768cc4f-910f-49b1-d223-21bbea76b01e"
      },
      "source": [
        "# Pre-process and transform the data same as the training dataset\n",
        "test.info()"
      ],
      "execution_count": 42,
      "outputs": [
        {
          "output_type": "stream",
          "text": [
            "<class 'pandas.core.frame.DataFrame'>\n",
            "RangeIndex: 418 entries, 0 to 417\n",
            "Data columns (total 11 columns):\n",
            " #   Column       Non-Null Count  Dtype  \n",
            "---  ------       --------------  -----  \n",
            " 0   PassengerId  418 non-null    int64  \n",
            " 1   Pclass       418 non-null    int64  \n",
            " 2   Name         418 non-null    object \n",
            " 3   Sex          418 non-null    object \n",
            " 4   Age          332 non-null    float64\n",
            " 5   SibSp        418 non-null    int64  \n",
            " 6   Parch        418 non-null    int64  \n",
            " 7   Ticket       418 non-null    object \n",
            " 8   Fare         417 non-null    float64\n",
            " 9   Cabin        91 non-null     object \n",
            " 10  Embarked     418 non-null    object \n",
            "dtypes: float64(2), int64(4), object(5)\n",
            "memory usage: 36.0+ KB\n"
          ],
          "name": "stdout"
        }
      ]
    },
    {
      "cell_type": "code",
      "metadata": {
        "colab": {
          "base_uri": "https://localhost:8080/",
          "height": 295
        },
        "id": "88Mxg8vHorwE",
        "outputId": "9b4b7feb-633d-472d-d1f4-25ce6a04370a"
      },
      "source": [
        "# Impute missing values of age by the respective average of the genders\n",
        "test.loc[(test.Age.isnull())&(test.Sex=='female'),'Age'] = test[\"Age\"][test[\"Sex\"] == 'female'].mean()\n",
        "test.loc[(test.Age.isnull())&(test.Sex=='male'),'Age'] = test[\"Age\"][test[\"Sex\"] == 'male'].mean()\n",
        "test.Age.isnull().any()\n",
        "\n",
        "# Fare not included in the final model, but in case we want to revert, need to treat missingness\n",
        "# Impute the missing value of fare by the pclass median\n",
        "test.loc[(test.Fare.isnull())&(test.Pclass==1),'Fare'] = test[\"Fare\"][test[\"Pclass\"] == 1].median()\n",
        "test.loc[(test.Fare.isnull())&(test.Pclass==2),'Fare'] = test[\"Fare\"][test[\"Pclass\"] == 2].median()\n",
        "test.loc[(test.Fare.isnull())&(test.Pclass==3),'Fare'] = test[\"Fare\"][test[\"Pclass\"] == 3].median()\n",
        "test.Fare.isnull().any()\n",
        "\n",
        "# Since Cabin will be dropped so, not required to fill the missing values\n",
        "\n",
        "# Convert the male and female groups to integer form\n",
        "test[\"Gender\"] = 0\n",
        "test.loc[test['Sex']=='male','Gender']=0\n",
        "test.loc[test['Sex']=='female','Gender']=1\n",
        "\n",
        "# Convert the Embarked classes to integer form\n",
        "test[\"Port\"] = 0\n",
        "test.loc[test['Embarked']=='S','Port']=0\n",
        "test.loc[test['Embarked']=='C','Port']=1\n",
        "test.loc[test['Embarked']=='Q','Port']=2\n",
        "\n",
        "# Create buckets for Age\n",
        "test[\"Age_cat\"] = 0\n",
        "test.loc[test['Age']<=12,'Age_cat']=0\n",
        "test.loc[(test['Age']>12)&(test['Age']<=20),'Age_cat']=1\n",
        "test.loc[(test['Age']>20)&(test['Age']<=35),'Age_cat']=2\n",
        "test.loc[(test['Age']>35)&(test['Age']<=50),'Age_cat']=3\n",
        "test.loc[test['Age']>50,'Age_cat']=4\n",
        "\n",
        "# Create  buckets for family size/travel company\n",
        "test[\"family_size\"] = test[\"SibSp\"] + test[\"Parch\"] + 1\n",
        "test[\"travel_company\"] = 0\n",
        "test.loc[test['family_size']>=1,'travel_company']=0\n",
        "test.loc[(test['family_size']>1)&(test['family_size']<=4),'travel_company']=1\n",
        "test.loc[test['family_size']>4,'travel_company']=2\n",
        "\n",
        "test.describe()"
      ],
      "execution_count": 43,
      "outputs": [
        {
          "output_type": "execute_result",
          "data": {
            "text/html": [
              "<div>\n",
              "<style scoped>\n",
              "    .dataframe tbody tr th:only-of-type {\n",
              "        vertical-align: middle;\n",
              "    }\n",
              "\n",
              "    .dataframe tbody tr th {\n",
              "        vertical-align: top;\n",
              "    }\n",
              "\n",
              "    .dataframe thead th {\n",
              "        text-align: right;\n",
              "    }\n",
              "</style>\n",
              "<table border=\"1\" class=\"dataframe\">\n",
              "  <thead>\n",
              "    <tr style=\"text-align: right;\">\n",
              "      <th></th>\n",
              "      <th>PassengerId</th>\n",
              "      <th>Pclass</th>\n",
              "      <th>Age</th>\n",
              "      <th>SibSp</th>\n",
              "      <th>Parch</th>\n",
              "      <th>Fare</th>\n",
              "      <th>Gender</th>\n",
              "      <th>Port</th>\n",
              "      <th>Age_cat</th>\n",
              "      <th>family_size</th>\n",
              "      <th>travel_company</th>\n",
              "    </tr>\n",
              "  </thead>\n",
              "  <tbody>\n",
              "    <tr>\n",
              "      <th>count</th>\n",
              "      <td>418.000000</td>\n",
              "      <td>418.000000</td>\n",
              "      <td>418.000000</td>\n",
              "      <td>418.000000</td>\n",
              "      <td>418.000000</td>\n",
              "      <td>418.000000</td>\n",
              "      <td>418.000000</td>\n",
              "      <td>418.000000</td>\n",
              "      <td>418.000000</td>\n",
              "      <td>418.000000</td>\n",
              "      <td>418.000000</td>\n",
              "    </tr>\n",
              "    <tr>\n",
              "      <th>mean</th>\n",
              "      <td>1100.500000</td>\n",
              "      <td>2.265550</td>\n",
              "      <td>30.272597</td>\n",
              "      <td>0.447368</td>\n",
              "      <td>0.392344</td>\n",
              "      <td>35.560845</td>\n",
              "      <td>0.363636</td>\n",
              "      <td>0.464115</td>\n",
              "      <td>2.100478</td>\n",
              "      <td>1.839713</td>\n",
              "      <td>0.442584</td>\n",
              "    </tr>\n",
              "    <tr>\n",
              "      <th>std</th>\n",
              "      <td>120.810458</td>\n",
              "      <td>0.841838</td>\n",
              "      <td>12.634534</td>\n",
              "      <td>0.896760</td>\n",
              "      <td>0.981429</td>\n",
              "      <td>55.856972</td>\n",
              "      <td>0.481622</td>\n",
              "      <td>0.685516</td>\n",
              "      <td>0.900013</td>\n",
              "      <td>1.519072</td>\n",
              "      <td>0.585848</td>\n",
              "    </tr>\n",
              "    <tr>\n",
              "      <th>min</th>\n",
              "      <td>892.000000</td>\n",
              "      <td>1.000000</td>\n",
              "      <td>0.170000</td>\n",
              "      <td>0.000000</td>\n",
              "      <td>0.000000</td>\n",
              "      <td>0.000000</td>\n",
              "      <td>0.000000</td>\n",
              "      <td>0.000000</td>\n",
              "      <td>0.000000</td>\n",
              "      <td>1.000000</td>\n",
              "      <td>0.000000</td>\n",
              "    </tr>\n",
              "    <tr>\n",
              "      <th>25%</th>\n",
              "      <td>996.250000</td>\n",
              "      <td>1.000000</td>\n",
              "      <td>23.000000</td>\n",
              "      <td>0.000000</td>\n",
              "      <td>0.000000</td>\n",
              "      <td>7.895800</td>\n",
              "      <td>0.000000</td>\n",
              "      <td>0.000000</td>\n",
              "      <td>2.000000</td>\n",
              "      <td>1.000000</td>\n",
              "      <td>0.000000</td>\n",
              "    </tr>\n",
              "    <tr>\n",
              "      <th>50%</th>\n",
              "      <td>1100.500000</td>\n",
              "      <td>3.000000</td>\n",
              "      <td>30.272362</td>\n",
              "      <td>0.000000</td>\n",
              "      <td>0.000000</td>\n",
              "      <td>14.454200</td>\n",
              "      <td>0.000000</td>\n",
              "      <td>0.000000</td>\n",
              "      <td>2.000000</td>\n",
              "      <td>1.000000</td>\n",
              "      <td>0.000000</td>\n",
              "    </tr>\n",
              "    <tr>\n",
              "      <th>75%</th>\n",
              "      <td>1204.750000</td>\n",
              "      <td>3.000000</td>\n",
              "      <td>35.750000</td>\n",
              "      <td>1.000000</td>\n",
              "      <td>0.000000</td>\n",
              "      <td>31.471875</td>\n",
              "      <td>1.000000</td>\n",
              "      <td>1.000000</td>\n",
              "      <td>2.750000</td>\n",
              "      <td>2.000000</td>\n",
              "      <td>1.000000</td>\n",
              "    </tr>\n",
              "    <tr>\n",
              "      <th>max</th>\n",
              "      <td>1309.000000</td>\n",
              "      <td>3.000000</td>\n",
              "      <td>76.000000</td>\n",
              "      <td>8.000000</td>\n",
              "      <td>9.000000</td>\n",
              "      <td>512.329200</td>\n",
              "      <td>1.000000</td>\n",
              "      <td>2.000000</td>\n",
              "      <td>4.000000</td>\n",
              "      <td>11.000000</td>\n",
              "      <td>2.000000</td>\n",
              "    </tr>\n",
              "  </tbody>\n",
              "</table>\n",
              "</div>"
            ],
            "text/plain": [
              "       PassengerId      Pclass  ...  family_size  travel_company\n",
              "count   418.000000  418.000000  ...   418.000000      418.000000\n",
              "mean   1100.500000    2.265550  ...     1.839713        0.442584\n",
              "std     120.810458    0.841838  ...     1.519072        0.585848\n",
              "min     892.000000    1.000000  ...     1.000000        0.000000\n",
              "25%     996.250000    1.000000  ...     1.000000        0.000000\n",
              "50%    1100.500000    3.000000  ...     1.000000        0.000000\n",
              "75%    1204.750000    3.000000  ...     2.000000        1.000000\n",
              "max    1309.000000    3.000000  ...    11.000000        2.000000\n",
              "\n",
              "[8 rows x 11 columns]"
            ]
          },
          "metadata": {
            "tags": []
          },
          "execution_count": 43
        }
      ]
    },
    {
      "cell_type": "code",
      "metadata": {
        "colab": {
          "base_uri": "https://localhost:8080/"
        },
        "id": "NRCAGHD_orwE",
        "outputId": "ede49651-4de8-4ea4-8522-6bda1fae8f38"
      },
      "source": [
        "# Extract the features from the test set and predict using the final model\n",
        "test_features = test[[\"Pclass\", \"Gender\", \"Port\", \"Age_cat\", \"travel_company\"]].values\n",
        "test_Survived = RandFor.predict(test_features)\n",
        "\n",
        "# Create a data frame with two columns: PassengerId & Survived for the final submission\n",
        "Titanic_Prediction = pd.DataFrame({'PassengerId' : test.loc[:,'PassengerId'],\n",
        "                                   'Survived': test_Survived})\n",
        "\n",
        "# Checking for the final dimensions : 418 x 2\n",
        "print(Titanic_Prediction.shape)\n",
        "\n",
        "# Export to a csv file\n",
        "Titanic_Prediction.to_csv(\"Titanic_Prediction.csv\", index=False)"
      ],
      "execution_count": 44,
      "outputs": [
        {
          "output_type": "stream",
          "text": [
            "(418, 2)\n"
          ],
          "name": "stdout"
        }
      ]
    },
    {
      "cell_type": "markdown",
      "metadata": {
        "id": "N5gi4yGEorwE"
      },
      "source": [
        "**Conclusion from the Titanic Survival Analysis (Exploratory Data Analysis + Model Dev + Pred) :-**\n",
        "- Findings from EDA - If you were on \"the Titanic\", your chances to survive would be the highest if you are a young female (or a child), have enough money to buy high fared tickets to get into a 1st class cabin, travelling in small family and getting aboard at the Port of Cherbourg.\n",
        "- Model development - Out of the three models tried out, Random Forest predicts the survival with the highest accuracy-83%. Logistic regression is good to start with, but for a model to better capture the interactions for a non linear data, decision tree is a better choice. Random Forest does even better than decision tree because overfitting could be a problem with the later. This can be reduced to some degree by creating an ensemble of randomized decison trees which essentially is what Random Forest does. Although, it can still be improved with more advanced techniques like SVM, AdaBoost, Naive Bayes, GBM, etc."
      ]
    }
  ]
}